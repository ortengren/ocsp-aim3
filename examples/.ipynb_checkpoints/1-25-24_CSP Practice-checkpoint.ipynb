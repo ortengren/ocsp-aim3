{
 "cells": [
  {
   "cell_type": "markdown",
   "id": "3d778faf",
   "metadata": {},
   "source": [
    "# Practice with Crystal Structure Prediction\n",
    "## Christian Jorgensen\n",
    "## January 12, 2024\n",
    "\n",
    "### This notebook includes me playing around with the data from Rosy's paper \"A data-driven interpretation of the stability of organic molecular crystals\" from 2023."
   ]
  },
  {
   "cell_type": "code",
   "execution_count": 9,
   "id": "6cb38f2c",
   "metadata": {},
   "outputs": [],
   "source": [
    "from ase.io import read\n",
    "from ase.visualize import view"
   ]
  },
  {
   "cell_type": "markdown",
   "id": "7aefff2c",
   "metadata": {},
   "source": [
    "Our goal is to predict crystal lattice energy given molecular structure. Rosy has provided 3 files as part of her work:\n",
    "\n",
    "'all_crystals.xyz' gives the relaxed geometries and properties for 2,707 organic crystals.\n",
    "\n",
    "'all_relaxed_molecules.xyz' gives the relaxed geometries and properties for 3,242 organic molecules.\n",
    "\n",
    "'all_relaxed_molecules_tagged' gives the same information as 'all_relaxed_molecules.xyz', along with the structural motifs the molecules have.\n",
    "\n",
    "The xyz files can be loaded using ASE (Atomic Simulation Environment). Loading these creates 'Atoms' objects, which can be interacted with in a lot of interesting ways."
   ]
  },
  {
   "cell_type": "code",
   "execution_count": 12,
   "id": "fed4170e",
   "metadata": {},
   "outputs": [],
   "source": [
    "crystal = read('all_crystals.xyz') #automatically loads last file, can add idx."
   ]
  },
  {
   "cell_type": "code",
   "execution_count": 15,
   "id": "f225fba4",
   "metadata": {},
   "outputs": [
    {
     "data": {
      "text/plain": [
       "<Popen: returncode: None args: ['C:\\\\Users\\\\cajch\\\\anaconda3\\\\python.exe', '...>"
      ]
     },
     "execution_count": 15,
     "metadata": {},
     "output_type": "execute_result"
    }
   ],
   "source": [
    "view(crystal) #Creates popup containing 3D crystal geometry"
   ]
  },
  {
   "cell_type": "code",
   "execution_count": 18,
   "id": "ec806cbb",
   "metadata": {
    "scrolled": true
   },
   "outputs": [
    {
     "data": {
      "text/plain": [
       "array([[ 2.05236 ,  7.65926 ,  1.48623 ],\n",
       "       [ 6.20346 ,  1.14229 ,  6.3228  ],\n",
       "       [ 1.50045 ,  6.87725 ,  4.53659 ],\n",
       "       [ 6.75538 ,  1.92431 ,  3.27243 ],\n",
       "       [ 5.70339 ,  6.79393 ,  3.69392 ],\n",
       "       [ 2.55243 ,  2.00762 ,  4.1151  ],\n",
       "       [ 4.66855 ,  5.95589 ,  3.83304 ],\n",
       "       [ 3.58727 ,  2.84566 ,  3.97598 ],\n",
       "       [ 4.68612 ,  5.29936 ,  4.62709 ],\n",
       "       [ 3.5697  ,  3.5022  ,  3.18193 ],\n",
       "       [ 3.9846  ,  5.8303  ,  3.07756 ],\n",
       "       [ 4.27123 ,  2.97125 ,  4.73146 ],\n",
       "       [ 3.2199  ,  4.77618 ,  1.84675 ],\n",
       "       [ 5.03592 ,  4.02538 ,  5.96227 ],\n",
       "       [ 1.20008 ,  3.85813 ,  1.28671 ],\n",
       "       [ 7.05575 ,  4.94342 ,  6.52231 ],\n",
       "       [ 1.37902 ,  3.07002 ,  1.95651 ],\n",
       "       [ 6.8768  ,  5.73153 ,  5.85252 ],\n",
       "       [ 5.37453 ,  4.05421 ,  1.03182 ],\n",
       "       [ 2.88129 ,  4.74735 ,  6.7772  ],\n",
       "       [ 5.67111 ,  7.71002 ,  2.47348 ],\n",
       "       [ 2.58472 ,  1.09153 ,  5.33554 ],\n",
       "       [ 4.99862 ,  0.640493,  2.85803 ],\n",
       "       [ 3.2572  ,  8.16106 ,  4.95099 ],\n",
       "       [ 4.77146 ,  7.52435 ,  1.822   ],\n",
       "       [ 3.48437 ,  1.2772  ,  5.98702 ],\n",
       "       [ 1.73829 ,  6.14058 ,  0.525622],\n",
       "       [ 6.51754 ,  2.66098 ,  7.2834  ],\n",
       "       [ 3.16458 ,  6.8489  ,  7.99526 ],\n",
       "       [ 5.09124 ,  1.95266 , -0.18624 ],\n",
       "       [ 4.87412 ,  6.90814 ,  7.45816 ],\n",
       "       [ 3.38171 ,  1.89342 ,  0.350861],\n",
       "       [ 2.09717 ,  4.86927 ,  1.28273 ],\n",
       "       [ 6.15866 ,  3.93229 ,  6.5263  ]])"
      ]
     },
     "execution_count": 18,
     "metadata": {},
     "output_type": "execute_result"
    }
   ],
   "source": [
    "crystal.positions #Get atom positions"
   ]
  },
  {
   "cell_type": "code",
   "execution_count": 22,
   "id": "32ba131d",
   "metadata": {},
   "outputs": [
    {
     "data": {
      "text/plain": [
       "array([16, 16,  8,  8,  6,  6,  7,  7,  1,  1,  1,  1,  8,  8,  7,  7,  1,\n",
       "        1,  1,  1,  6,  6,  1,  1,  1,  1,  6,  6,  1,  1,  1,  1,  6,  6])"
      ]
     },
     "execution_count": 22,
     "metadata": {},
     "output_type": "execute_result"
    }
   ],
   "source": [
    "crystal.numbers #Get atomic numbers of atoms in the crystal"
   ]
  },
  {
   "cell_type": "code",
   "execution_count": 25,
   "id": "3d05f9d7",
   "metadata": {},
   "outputs": [
    {
     "data": {
      "text/plain": [
       "34"
      ]
     },
     "execution_count": 25,
     "metadata": {},
     "output_type": "execute_result"
    }
   ],
   "source": [
    "crystal.get_global_number_of_atoms() #Get number of atoms in the crystal"
   ]
  },
  {
   "cell_type": "code",
   "execution_count": 27,
   "id": "74cc37c1",
   "metadata": {},
   "outputs": [
    {
     "data": {
      "text/plain": [
       "['S',\n",
       " 'S',\n",
       " 'O',\n",
       " 'O',\n",
       " 'C',\n",
       " 'C',\n",
       " 'N',\n",
       " 'N',\n",
       " 'H',\n",
       " 'H',\n",
       " 'H',\n",
       " 'H',\n",
       " 'O',\n",
       " 'O',\n",
       " 'N',\n",
       " 'N',\n",
       " 'H',\n",
       " 'H',\n",
       " 'H',\n",
       " 'H',\n",
       " 'C',\n",
       " 'C',\n",
       " 'H',\n",
       " 'H',\n",
       " 'H',\n",
       " 'H',\n",
       " 'C',\n",
       " 'C',\n",
       " 'H',\n",
       " 'H',\n",
       " 'H',\n",
       " 'H',\n",
       " 'C',\n",
       " 'C']"
      ]
     },
     "execution_count": 27,
     "metadata": {},
     "output_type": "execute_result"
    }
   ],
   "source": [
    "crystal.get_chemical_symbols() #Get list of chemical symbols"
   ]
  },
  {
   "cell_type": "code",
   "execution_count": 28,
   "id": "252a4449",
   "metadata": {},
   "outputs": [
    {
     "data": {
      "text/plain": [
       "'C8H16N4O4S2'"
      ]
     },
     "execution_count": 28,
     "metadata": {},
     "output_type": "execute_result"
    }
   ],
   "source": [
    "crystal.get_chemical_formula() #Get chemical formula"
   ]
  },
  {
   "cell_type": "code",
   "execution_count": 34,
   "id": "28d2be65",
   "metadata": {},
   "outputs": [
    {
     "data": {
      "text/plain": [
       "Symbols('S2O2C2N2H4O2N2H4C2H4C2H4C2')"
      ]
     },
     "execution_count": 34,
     "metadata": {},
     "output_type": "execute_result"
    }
   ],
   "source": [
    "crystal.symbols #Get string of chemical symbols"
   ]
  },
  {
   "cell_type": "code",
   "execution_count": 35,
   "id": "96b424f4",
   "metadata": {},
   "outputs": [
    {
     "data": {
      "text/plain": [
       "{'dft_energy_ryd': -522.550312,\n",
       " 'dft_cohesive_energy_relaxed_configs_ryd': -0.3732642399999122,\n",
       " 'mol_indices': 3241,\n",
       " 'crystal_idx': 2821,\n",
       " 'CCDC_ID': 'QOCNAX01'}"
      ]
     },
     "execution_count": 35,
     "metadata": {},
     "output_type": "execute_result"
    }
   ],
   "source": [
    "crystal.info #Get important crystal info that's available as part of the file"
   ]
  },
  {
   "cell_type": "code",
   "execution_count": 19,
   "id": "75f9d006",
   "metadata": {
    "scrolled": true
   },
   "outputs": [
    {
     "data": {
      "text/plain": [
       "{'numbers': array([16, 16,  8,  8,  6,  6,  7,  7,  1,  1,  1,  1,  8,  8,  7,  7,  1,\n",
       "         1,  1,  1,  6,  6,  1,  1,  1,  1,  6,  6,  1,  1,  1,  1,  6,  6]),\n",
       " 'positions': array([[ 2.05236 ,  7.65926 ,  1.48623 ],\n",
       "        [ 6.20346 ,  1.14229 ,  6.3228  ],\n",
       "        [ 1.50045 ,  6.87725 ,  4.53659 ],\n",
       "        [ 6.75538 ,  1.92431 ,  3.27243 ],\n",
       "        [ 5.70339 ,  6.79393 ,  3.69392 ],\n",
       "        [ 2.55243 ,  2.00762 ,  4.1151  ],\n",
       "        [ 4.66855 ,  5.95589 ,  3.83304 ],\n",
       "        [ 3.58727 ,  2.84566 ,  3.97598 ],\n",
       "        [ 4.68612 ,  5.29936 ,  4.62709 ],\n",
       "        [ 3.5697  ,  3.5022  ,  3.18193 ],\n",
       "        [ 3.9846  ,  5.8303  ,  3.07756 ],\n",
       "        [ 4.27123 ,  2.97125 ,  4.73146 ],\n",
       "        [ 3.2199  ,  4.77618 ,  1.84675 ],\n",
       "        [ 5.03592 ,  4.02538 ,  5.96227 ],\n",
       "        [ 1.20008 ,  3.85813 ,  1.28671 ],\n",
       "        [ 7.05575 ,  4.94342 ,  6.52231 ],\n",
       "        [ 1.37902 ,  3.07002 ,  1.95651 ],\n",
       "        [ 6.8768  ,  5.73153 ,  5.85252 ],\n",
       "        [ 5.37453 ,  4.05421 ,  1.03182 ],\n",
       "        [ 2.88129 ,  4.74735 ,  6.7772  ],\n",
       "        [ 5.67111 ,  7.71002 ,  2.47348 ],\n",
       "        [ 2.58472 ,  1.09153 ,  5.33554 ],\n",
       "        [ 4.99862 ,  0.640493,  2.85803 ],\n",
       "        [ 3.2572  ,  8.16106 ,  4.95099 ],\n",
       "        [ 4.77146 ,  7.52435 ,  1.822   ],\n",
       "        [ 3.48437 ,  1.2772  ,  5.98702 ],\n",
       "        [ 1.73829 ,  6.14058 ,  0.525622],\n",
       "        [ 6.51754 ,  2.66098 ,  7.2834  ],\n",
       "        [ 3.16458 ,  6.8489  ,  7.99526 ],\n",
       "        [ 5.09124 ,  1.95266 , -0.18624 ],\n",
       "        [ 4.87412 ,  6.90814 ,  7.45816 ],\n",
       "        [ 3.38171 ,  1.89342 ,  0.350861],\n",
       "        [ 2.09717 ,  4.86927 ,  1.28273 ],\n",
       "        [ 6.15866 ,  3.93229 ,  6.5263  ]]),\n",
       " 'atom_index_in_mol': array([ 3,  3,  5,  5,  9,  9,  7,  7,  6,  6, 16, 16,  0,  0, 15, 15, 14,\n",
       "        14, 12, 12,  4,  4,  8,  8, 11, 11, 10, 10,  1,  1, 13, 13,  2,  2],\n",
       "       dtype=int32),\n",
       " 'unique_mol_indices': array([0, 1, 0, 1, 0, 1, 0, 1, 0, 1, 0, 1, 0, 1, 0, 1, 0, 1, 0, 1, 0, 1,\n",
       "        0, 1, 0, 1, 0, 1, 0, 1, 0, 1, 0, 1], dtype=int32),\n",
       " 'mol_indices': array([3241, 3241, 3241, 3241, 3241, 3241, 3241, 3241, 3241, 3241, 3241,\n",
       "        3241, 3241, 3241, 3241, 3241, 3241, 3241, 3241, 3241, 3241, 3241,\n",
       "        3241, 3241, 3241, 3241, 3241, 3241, 3241, 3241, 3241, 3241, 3241,\n",
       "        3241], dtype=int32)}"
      ]
     },
     "execution_count": 19,
     "metadata": {},
     "output_type": "execute_result"
    }
   ],
   "source": [
    "crystal.arrays #Get a bunch of information"
   ]
  },
  {
   "cell_type": "code",
   "execution_count": 40,
   "id": "dcc6d192",
   "metadata": {},
   "outputs": [
    {
     "data": {
      "text/plain": [
       "{'numbers': array([16, 16,  8,  8,  6,  6,  7,  7,  1,  1,  1,  1,  8,  8,  7,  7,  1,\n",
       "         1,  1,  1,  6,  6,  1,  1,  1,  1,  6,  6,  1,  1,  1,  1,  6,  6]),\n",
       " 'positions': array([[ 2.05236 ,  7.65926 ,  1.48623 ],\n",
       "        [ 6.20346 ,  1.14229 ,  6.3228  ],\n",
       "        [ 1.50045 ,  6.87725 ,  4.53659 ],\n",
       "        [ 6.75538 ,  1.92431 ,  3.27243 ],\n",
       "        [ 5.70339 ,  6.79393 ,  3.69392 ],\n",
       "        [ 2.55243 ,  2.00762 ,  4.1151  ],\n",
       "        [ 4.66855 ,  5.95589 ,  3.83304 ],\n",
       "        [ 3.58727 ,  2.84566 ,  3.97598 ],\n",
       "        [ 4.68612 ,  5.29936 ,  4.62709 ],\n",
       "        [ 3.5697  ,  3.5022  ,  3.18193 ],\n",
       "        [ 3.9846  ,  5.8303  ,  3.07756 ],\n",
       "        [ 4.27123 ,  2.97125 ,  4.73146 ],\n",
       "        [ 3.2199  ,  4.77618 ,  1.84675 ],\n",
       "        [ 5.03592 ,  4.02538 ,  5.96227 ],\n",
       "        [ 1.20008 ,  3.85813 ,  1.28671 ],\n",
       "        [ 7.05575 ,  4.94342 ,  6.52231 ],\n",
       "        [ 1.37902 ,  3.07002 ,  1.95651 ],\n",
       "        [ 6.8768  ,  5.73153 ,  5.85252 ],\n",
       "        [ 5.37453 ,  4.05421 ,  1.03182 ],\n",
       "        [ 2.88129 ,  4.74735 ,  6.7772  ],\n",
       "        [ 5.67111 ,  7.71002 ,  2.47348 ],\n",
       "        [ 2.58472 ,  1.09153 ,  5.33554 ],\n",
       "        [ 4.99862 ,  0.640493,  2.85803 ],\n",
       "        [ 3.2572  ,  8.16106 ,  4.95099 ],\n",
       "        [ 4.77146 ,  7.52435 ,  1.822   ],\n",
       "        [ 3.48437 ,  1.2772  ,  5.98702 ],\n",
       "        [ 1.73829 ,  6.14058 ,  0.525622],\n",
       "        [ 6.51754 ,  2.66098 ,  7.2834  ],\n",
       "        [ 3.16458 ,  6.8489  ,  7.99526 ],\n",
       "        [ 5.09124 ,  1.95266 , -0.18624 ],\n",
       "        [ 4.87412 ,  6.90814 ,  7.45816 ],\n",
       "        [ 3.38171 ,  1.89342 ,  0.350861],\n",
       "        [ 2.09717 ,  4.86927 ,  1.28273 ],\n",
       "        [ 6.15866 ,  3.93229 ,  6.5263  ]]),\n",
       " 'atom_index_in_mol': array([ 3,  3,  5,  5,  9,  9,  7,  7,  6,  6, 16, 16,  0,  0, 15, 15, 14,\n",
       "        14, 12, 12,  4,  4,  8,  8, 11, 11, 10, 10,  1,  1, 13, 13,  2,  2],\n",
       "       dtype=int32),\n",
       " 'unique_mol_indices': array([0, 1, 0, 1, 0, 1, 0, 1, 0, 1, 0, 1, 0, 1, 0, 1, 0, 1, 0, 1, 0, 1,\n",
       "        0, 1, 0, 1, 0, 1, 0, 1, 0, 1, 0, 1], dtype=int32),\n",
       " 'mol_indices': array([3241, 3241, 3241, 3241, 3241, 3241, 3241, 3241, 3241, 3241, 3241,\n",
       "        3241, 3241, 3241, 3241, 3241, 3241, 3241, 3241, 3241, 3241, 3241,\n",
       "        3241, 3241, 3241, 3241, 3241, 3241, 3241, 3241, 3241, 3241, 3241,\n",
       "        3241], dtype=int32),\n",
       " 'cell': array([[5.142     , 0.        , 0.        ],\n",
       "        [0.64172119, 8.09961844, 0.        ],\n",
       "        [2.47210238, 0.70193806, 7.80902259]]),\n",
       " 'pbc': array([ True,  True,  True]),\n",
       " 'info': {'dft_energy_ryd': -522.550312,\n",
       "  'dft_cohesive_energy_relaxed_configs_ryd': -0.3732642399999122,\n",
       "  'mol_indices': 3241,\n",
       "  'crystal_idx': 2821,\n",
       "  'CCDC_ID': 'QOCNAX01'}}"
      ]
     },
     "execution_count": 40,
     "metadata": {},
     "output_type": "execute_result"
    }
   ],
   "source": [
    "crystal.todict()"
   ]
  },
  {
   "cell_type": "markdown",
   "id": "8009767d",
   "metadata": {},
   "source": [
    "# Extracting Information\n",
    "\n",
    "### From the crystals file, need to get total energy, lattice energy, crystal index, and corresponding molecule index"
   ]
  },
  {
   "cell_type": "code",
   "execution_count": 63,
   "id": "6af58343",
   "metadata": {},
   "outputs": [
    {
     "name": "stderr",
     "output_type": "stream",
     "text": [
      "100%|██████████| 2707/2707 [08:04<00:00,  5.58it/s]\n"
     ]
    }
   ],
   "source": [
    "from tqdm import trange\n",
    "\n",
    "total_energies, lattice_energies, crystal_indices, corr_mol_indices = [], [], [], []\n",
    "\n",
    "for i in trange(0, 2707): #missing crystal indices belong to test set?\n",
    "    \n",
    "    crystal = read('all_crystals.xyz', i)\n",
    "    \n",
    "    total_energies.append(crystal.info['dft_energy_ryd'])\n",
    "    lattice_energies.append(crystal.info['dft_cohesive_energy_relaxed_configs_ryd'])\n",
    "    crystal_indices.append(crystal.info['crystal_idx'])\n",
    "    corr_mol_indices.append(crystal.info['mol_indices'])\n",
    "    "
   ]
  },
  {
   "cell_type": "code",
   "execution_count": 64,
   "id": "5c9e7dd7",
   "metadata": {},
   "outputs": [
    {
     "data": {
      "text/plain": [
       "2707"
      ]
     },
     "execution_count": 64,
     "metadata": {},
     "output_type": "execute_result"
    }
   ],
   "source": [
    "len(total_energies)"
   ]
  },
  {
   "cell_type": "markdown",
   "id": "0bc8486b",
   "metadata": {},
   "source": [
    "### From the molecules file, need to get atom positions and atom identities"
   ]
  },
  {
   "cell_type": "code",
   "execution_count": 68,
   "id": "d8cdbea4",
   "metadata": {},
   "outputs": [
    {
     "name": "stderr",
     "output_type": "stream",
     "text": [
      "100%|██████████| 3242/3242 [07:48<00:00,  6.92it/s]\n"
     ]
    }
   ],
   "source": [
    "atom_pos, atom_symbols, mol_indices, corr_crystal_indices = [], [], [], []\n",
    "for i in trange(3242):\n",
    "\n",
    "    molecule = read('all_relaxed_molecules.xyz', i)\n",
    "    \n",
    "    atom_pos.append(molecule.arrays['positions'])\n",
    "    atom_symbols.append(molecule.arrays['numbers'])\n",
    "    mol_indices.append(molecule.info['molecule_idx'])\n",
    "    corr_crystal_indices.append(molecule.info['crystal_idx'])"
   ]
  },
  {
   "cell_type": "code",
   "execution_count": null,
   "id": "6e2a4774",
   "metadata": {},
   "outputs": [],
   "source": []
  }
 ],
 "metadata": {
  "kernelspec": {
   "display_name": "Python 3 (ipykernel)",
   "language": "python",
   "name": "python3"
  },
  "language_info": {
   "codemirror_mode": {
    "name": "ipython",
    "version": 3
   },
   "file_extension": ".py",
   "mimetype": "text/x-python",
   "name": "python",
   "nbconvert_exporter": "python",
   "pygments_lexer": "ipython3",
   "version": "3.10.9"
  }
 },
 "nbformat": 4,
 "nbformat_minor": 5
}
