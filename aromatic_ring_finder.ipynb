{
 "cells": [
  {
   "cell_type": "code",
   "execution_count": 83,
   "id": "97e26c86-fdaf-46c5-9c00-39f06d2268bb",
   "metadata": {},
   "outputs": [],
   "source": [
    "import re\n",
    "import numpy as np\n",
    "import pandas as pd\n",
    "import ipywidgets as widgets\n",
    "from ipywidgets import interact, interactive, fixed, interact_manual\n",
    "from ase.visualize import view\n",
    "from ase.io import read\n",
    "from pysmiles import write_smiles\n",
    "from rdkit import Chem\n",
    "from tqdm import tqdm\n",
    "from rdkit.Chem import Draw\n",
    "%matplotlib inline"
   ]
  },
  {
   "cell_type": "code",
   "execution_count": 2,
   "id": "200f9e1b-b4e9-40ab-a62f-cb074d93c55e",
   "metadata": {},
   "outputs": [
    {
     "name": "stderr",
     "output_type": "stream",
     "text": [
      "3242it [00:00, 620570.17it/s]\n"
     ]
    }
   ],
   "source": [
    "smiles = []\n",
    "# Clean up file with SMILE strings for molecules.\n",
    "# File created from all_relaxed_molecules.xyz using Open Babel.\n",
    "with open(\"data/all_relaxed_molecules.can\", \"r\") as reader:\n",
    "    for line in tqdm(reader):\n",
    "        smile = line[:line.index(\"Lattice\")].strip()\n",
    "        smiles.append(smile)"
   ]
  },
  {
   "cell_type": "code",
   "execution_count": 3,
   "id": "ed3fe5eb-cec8-4931-9dfc-ac7260a9f51d",
   "metadata": {},
   "outputs": [
    {
     "data": {
      "text/plain": [
       "3242"
      ]
     },
     "execution_count": 3,
     "metadata": {},
     "output_type": "execute_result"
    }
   ],
   "source": [
    "len(smiles)"
   ]
  },
  {
   "cell_type": "code",
   "execution_count": 4,
   "id": "413e07d9-56d5-4d96-ab2f-c2c9607f2b4f",
   "metadata": {},
   "outputs": [],
   "source": [
    "# Naive attempt at finding aromatic rings using a regular expression based on SMILES string for benzene.\n",
    "benzene_re = \".*c[0-9]+ccccc[0-9]+\"\n",
    "benzenes = [x for x in zip(smiles, range(len(smiles))) if re.search(benzene_re, x[0])]\n",
    "b_smiles, b_idxs = list(zip(*benzenes))"
   ]
  },
  {
   "cell_type": "code",
   "execution_count": 5,
   "id": "407e0d8e-e647-453a-9dcd-084750d686a9",
   "metadata": {},
   "outputs": [],
   "source": [
    "# Find any molecule whose SMILES string contains at least one aromatic carbon (denoted with a \"c\").\n",
    "aromatic_carbons = [t for t in enumerate(smiles) if t[1].count(\"c\") > 0]\n",
    "ac_idxs, ac_smiles = list(zip(*aromatic_carbons))"
   ]
  },
  {
   "cell_type": "code",
   "execution_count": 6,
   "id": "88f99184-b23f-45c8-9a3e-cb7495b27373",
   "metadata": {},
   "outputs": [
    {
     "data": {
      "text/plain": [
       "1257"
      ]
     },
     "execution_count": 6,
     "metadata": {},
     "output_type": "execute_result"
    }
   ],
   "source": [
    "# List the indices of molecules with at least one aromatic carbon that were NOT detected with the \n",
    "# regular expression.\n",
    "ac_no_b_idxs = [x for x in ac_idxs if not x in b_idxs]\n",
    "len(ac_no_b_idxs)"
   ]
  },
  {
   "cell_type": "code",
   "execution_count": 7,
   "id": "6ea1eb7d-f394-4a8d-9641-25fde34b5be6",
   "metadata": {},
   "outputs": [
    {
     "data": {
      "application/vnd.jupyter.widget-view+json": {
       "model_id": "966494078ec040d59549963410970011",
       "version_major": 2,
       "version_minor": 0
      },
      "text/plain": [
       "interactive(children=(BoundedIntText(value=0, description='x', max=1256), Output()), _dom_classes=('widget-int…"
      ]
     },
     "metadata": {},
     "output_type": "display_data"
    },
    {
     "data": {
      "text/plain": [
       "<function __main__.picture_mols(x)>"
      ]
     },
     "execution_count": 7,
     "metadata": {},
     "output_type": "execute_result"
    }
   ],
   "source": [
    "# Interactive interface for visualizing molecules with one or more aromatic carbons that were not\n",
    "# detected with the regex search.\n",
    "out = widgets.Output()\n",
    "\n",
    "def picture_mols(x):\n",
    "    out.clear_output()\n",
    "    with out:\n",
    "        print(f\"showing smiles[{ac_no_b_idxs[x]}]\")\n",
    "        print(\"SMILES string:\", smiles[ac_no_b_idxs[x]])\n",
    "    display(out)\n",
    "    mol = Chem.MolFromSmiles(smiles[ac_no_b_idxs[x]])\n",
    "#    for atom in mol.GetAtoms():\n",
    "#        atom.SetAtomMapNum(atom.GetIdx())\n",
    "    return mol\n",
    "\n",
    "ibox = widgets.BoundedIntText(min=0, max=1256)\n",
    "interact(picture_mols, x=ibox)"
   ]
  },
  {
   "cell_type": "code",
   "execution_count": null,
   "id": "3f08eeb4-f239-4d27-94ab-b2cd5b0862a0",
   "metadata": {},
   "outputs": [],
   "source": [
    "molecules = [Chem.MolFromSmiles(s) for s in smiles]\n",
    "\n",
    "failed_idxs = [i for i in range(len(molecules)) if not molecules[i]]\n",
    "molecules = list(filter(lambda x: not x == None, molecules))"
   ]
  },
  {
   "cell_type": "code",
   "execution_count": 73,
   "id": "be0d8df4-0c78-4488-b46e-14ea9c34ddfa",
   "metadata": {},
   "outputs": [
    {
     "data": {
      "text/plain": [
       "170"
      ]
     },
     "execution_count": 73,
     "metadata": {},
     "output_type": "execute_result"
    }
   ],
   "source": [
    "len(failed_idxs)"
   ]
  },
  {
   "cell_type": "code",
   "execution_count": 82,
   "id": "0194a6c7-cc29-463c-b161-6e8b652bca6e",
   "metadata": {},
   "outputs": [],
   "source": [
    "def is_aromatic_ring(mol, bonds):\n",
    "    for idx in bonds:\n",
    "        if not mol.GetBondWithIdx(idx).GetIsAromatic():\n",
    "            return False\n",
    "    return True\n",
    "\n",
    "def is_only_carbon(mol, bonds):\n",
    "    for idx in bonds:\n",
    "        bond = mol.GetBondWithIdx(idx)\n",
    "        if not bond.GetIsAromatic():\n",
    "            return False\n",
    "        print(type(bond))\n",
    "\n",
    "def has_aromatic_ring(mol):\n",
    "    ri = mol.GetRingInfo()\n",
    "    for ring in ri.BondRings():\n",
    "        if is_aromatic_ring(mol, ring):\n",
    "            return True\n",
    "    return False\n",
    "\n",
    "def has_ac_ring(mol):\n",
    "    ri = mol.GetRingInfo()\n",
    "    print(type(ri))\n",
    "    for ring in ri.BondRings():\n",
    "        if is_aromatic_ring(mol, ring):\n",
    "            return True\n",
    "    return False"
   ]
  },
  {
   "cell_type": "code",
   "execution_count": 77,
   "id": "3ab32cb8-9605-444f-ac1c-a4f4072fca12",
   "metadata": {},
   "outputs": [
    {
     "data": {
      "text/plain": [
       "1428"
      ]
     },
     "execution_count": 77,
     "metadata": {},
     "output_type": "execute_result"
    }
   ],
   "source": [
    "ar_mols = [(i, mol) for (i, mol) in enumerate(molecules) if has_aromatic_ring(mol)]\n",
    "len(ar_mols)"
   ]
  },
  {
   "cell_type": "code",
   "execution_count": 81,
   "id": "7bb8857a-e765-4a13-84fd-380e0779d81f",
   "metadata": {},
   "outputs": [
    {
     "data": {
      "application/vnd.jupyter.widget-view+json": {
       "model_id": "91923a0703cd4f6e990dd6076b0a3214",
       "version_major": 2,
       "version_minor": 0
      },
      "text/plain": [
       "interactive(children=(BoundedIntText(value=0, description='x', max=1256), Output()), _dom_classes=('widget-int…"
      ]
     },
     "metadata": {},
     "output_type": "display_data"
    },
    {
     "data": {
      "text/plain": [
       "<function __main__.picture_mols(x)>"
      ]
     },
     "execution_count": 81,
     "metadata": {},
     "output_type": "execute_result"
    }
   ],
   "source": [
    "out = widgets.Output()\n",
    "i = 0\n",
    "\n",
    "def picture_mols(x):\n",
    "    out.clear_output()\n",
    "    with out:\n",
    "        print(f\"showing molecules[{ar_mols[x][0]}]\")\n",
    "    display(out)\n",
    "    mol = ar_mols[x][1]\n",
    "    return mol\n",
    "\n",
    "ibox = widgets.BoundedIntText(min=0, max=1256)\n",
    "interact(picture_mols, x=ibox)"
   ]
  },
  {
   "cell_type": "code",
   "execution_count": null,
   "id": "4f42bcee-930e-4766-b76f-0fa58b7d1377",
   "metadata": {},
   "outputs": [],
   "source": [
    "ar_smiles = [Chem.MolToSmiles(mol) for (i, mol) in ar_mols]\n",
    "ar_idxs = [i for (i, mol) in ar_mols]"
   ]
  },
  {
   "cell_type": "code",
   "execution_count": 87,
   "id": "700248e3-9e0d-42a1-83c5-2c82ab82c5cb",
   "metadata": {},
   "outputs": [],
   "source": [
    "mol_frames = read(\"data/all_relaxed_molecules.xyz\", \":\")"
   ]
  },
  {
   "cell_type": "code",
   "execution_count": 89,
   "id": "43e7a3a8-1f0f-4daa-ac5c-a54b276cb53e",
   "metadata": {},
   "outputs": [
    {
     "data": {
      "text/plain": [
       "Atoms(symbols='OHSH2OCH2CHC4HCH2COH2SHO', pbc=False, cell=[32.66666928, 32.66666928, 32.66666928])"
      ]
     },
     "execution_count": 89,
     "metadata": {},
     "output_type": "execute_result"
    }
   ],
   "source": [
    "mol_frames[0]"
   ]
  },
  {
   "cell_type": "code",
   "execution_count": 99,
   "id": "54a0f5f7-d266-4efa-9c1b-04180cf7d7de",
   "metadata": {},
   "outputs": [
    {
     "name": "stderr",
     "output_type": "stream",
     "text": [
      "78614it [00:00, 3369932.19it/s]\n"
     ]
    },
    {
     "data": {
      "text/plain": [
       "'Lattice=\"32.66666928 0.0 0.0 0.0 32.66666928 0.0 0.0 0.0 32.66666928\" Properties=species:S:1:pos:R:3 dft_energy_ryd=-404.45301436 molecule_idx=0 crystal_idx=0 motif_idx=\"_JSON [[6, 2, 0, 12, 5, 1, 7, 17], [13, 23, 20, 19, 25, 8, 18, 24], [11, 12, 3, 15, 7, 17], [13, 14, 8, 18, 10, 22]]\" motif_names=\"_JSON [\\\\\"sulfonyl\\\\\", \\\\\"sulfonyl\\\\\", \\\\\"alkane\\\\\", \\\\\"alkane\\\\\"]\" pbc=\"F F F\"\\n'"
      ]
     },
     "execution_count": 99,
     "metadata": {},
     "output_type": "execute_result"
    }
   ],
   "source": [
    "mol_info = []\n",
    "\n",
    "with open(\"data/all_relaxed_molecules_tagged.xyz\", \"r\") as f:\n",
    "    for line in tqdm(f):\n",
    "        if line.count(\"Lattice\") > 0:\n",
    "            mol_info.append(line)\n",
    "\n",
    "mol_info[0]"
   ]
  },
  {
   "cell_type": "code",
   "execution_count": 106,
   "id": "eed4ebb2-1723-4d92-b8f7-9e065df985b2",
   "metadata": {},
   "outputs": [],
   "source": [
    "tmp = [line[line.index('\"') + 1 : line.index('\" Properties')] for line in mol_info]\n",
    "lattices = [tuple(x.split(\" \")) for x in tmp]\n",
    "ar_lattices = [x for (i, x) in enumerate(lattices) if i in ar_idxs]"
   ]
  },
  {
   "cell_type": "code",
   "execution_count": 107,
   "id": "9c5c85c6-fc9e-4769-89f5-fdc125045d92",
   "metadata": {},
   "outputs": [],
   "source": [
    "ar_mol_dict = {\n",
    "    \"SMILES\" : ar_smiles, \n",
    "    \"Number\" : ar_idxs,\n",
    "    \"Lattice\" : ar_lattices,\n",
    "}"
   ]
  },
  {
   "cell_type": "code",
   "execution_count": 108,
   "id": "8acfc617-7cb8-46d1-a128-89c6c35dd498",
   "metadata": {},
   "outputs": [
    {
     "data": {
      "text/html": [
       "<div>\n",
       "<style scoped>\n",
       "    .dataframe tbody tr th:only-of-type {\n",
       "        vertical-align: middle;\n",
       "    }\n",
       "\n",
       "    .dataframe tbody tr th {\n",
       "        vertical-align: top;\n",
       "    }\n",
       "\n",
       "    .dataframe thead th {\n",
       "        text-align: right;\n",
       "    }\n",
       "</style>\n",
       "<table border=\"1\" class=\"dataframe\">\n",
       "  <thead>\n",
       "    <tr style=\"text-align: right;\">\n",
       "      <th></th>\n",
       "      <th>SMILES</th>\n",
       "      <th>Number</th>\n",
       "      <th>Lattice</th>\n",
       "    </tr>\n",
       "  </thead>\n",
       "  <tbody>\n",
       "    <tr>\n",
       "      <th>0</th>\n",
       "      <td>CCc1cc(C(N)=S)ccn1</td>\n",
       "      <td>2</td>\n",
       "      <td>(30.502558800000003, 0.0, 0.0, 0.0, 30.5025588...</td>\n",
       "    </tr>\n",
       "    <tr>\n",
       "      <th>1</th>\n",
       "      <td>On1nnc2cccnc21</td>\n",
       "      <td>6</td>\n",
       "      <td>(20.36922552, 0.0, 0.0, 0.0, 20.36922552, 0.0,...</td>\n",
       "    </tr>\n",
       "    <tr>\n",
       "      <th>2</th>\n",
       "      <td>Cc1c(O)c(=O)ccn1C</td>\n",
       "      <td>7</td>\n",
       "      <td>(24.34648104, 0.0, 0.0, 0.0, 24.34648104, 0.0,...</td>\n",
       "    </tr>\n",
       "    <tr>\n",
       "      <th>3</th>\n",
       "      <td>Cc1ccc2c(c1)CN(C)CO2</td>\n",
       "      <td>8</td>\n",
       "      <td>(24.650559360000003, 0.0, 0.0, 0.0, 24.6505593...</td>\n",
       "    </tr>\n",
       "    <tr>\n",
       "      <th>4</th>\n",
       "      <td>c1ccc2cc3cc4cc5ccccc5cc4cc3cc2c1</td>\n",
       "      <td>9</td>\n",
       "      <td>(29.09277, 0.0, 0.0, 0.0, 29.09277, 0.0, 0.0, ...</td>\n",
       "    </tr>\n",
       "    <tr>\n",
       "      <th>...</th>\n",
       "      <td>...</td>\n",
       "      <td>...</td>\n",
       "      <td>...</td>\n",
       "    </tr>\n",
       "    <tr>\n",
       "      <th>1423</th>\n",
       "      <td>COc1cc(C(=O)O)ccc1O</td>\n",
       "      <td>3061</td>\n",
       "      <td>(26.94702276, 0.0, 0.0, 0.0, 26.94702276, 0.0,...</td>\n",
       "    </tr>\n",
       "    <tr>\n",
       "      <th>1424</th>\n",
       "      <td>COC(=O)c1cnc(C(=O)OC)cn1</td>\n",
       "      <td>3062</td>\n",
       "      <td>(37.42015536, 0.0, 0.0, 0.0, 37.42015536, 0.0,...</td>\n",
       "    </tr>\n",
       "    <tr>\n",
       "      <th>1425</th>\n",
       "      <td>c1ccc2c(c1)c1c3c4ccccc4n4c5ccccc5c(c5c6ccccc6n...</td>\n",
       "      <td>3063</td>\n",
       "      <td>(38.86254288000001, 0.0, 0.0, 0.0, 38.86254288...</td>\n",
       "    </tr>\n",
       "    <tr>\n",
       "      <th>1426</th>\n",
       "      <td>Oc1ccc(O)cc1</td>\n",
       "      <td>3064</td>\n",
       "      <td>(31.45395456, 0.0, 0.0, 0.0, 31.45395456, 0.0,...</td>\n",
       "    </tr>\n",
       "    <tr>\n",
       "      <th>1427</th>\n",
       "      <td>CCOC(=O)c1nc(-c2ccccn2)c(C(=O)OCC)nc1-c1ccccn1</td>\n",
       "      <td>3065</td>\n",
       "      <td>(26.358340679999998, 0.0, 0.0, 0.0, 26.3583406...</td>\n",
       "    </tr>\n",
       "  </tbody>\n",
       "</table>\n",
       "<p>1428 rows × 3 columns</p>\n",
       "</div>"
      ],
      "text/plain": [
       "                                                 SMILES  Number  \\\n",
       "0                                    CCc1cc(C(N)=S)ccn1       2   \n",
       "1                                        On1nnc2cccnc21       6   \n",
       "2                                     Cc1c(O)c(=O)ccn1C       7   \n",
       "3                                  Cc1ccc2c(c1)CN(C)CO2       8   \n",
       "4                      c1ccc2cc3cc4cc5ccccc5cc4cc3cc2c1       9   \n",
       "...                                                 ...     ...   \n",
       "1423                                COc1cc(C(=O)O)ccc1O    3061   \n",
       "1424                           COC(=O)c1cnc(C(=O)OC)cn1    3062   \n",
       "1425  c1ccc2c(c1)c1c3c4ccccc4n4c5ccccc5c(c5c6ccccc6n...    3063   \n",
       "1426                                       Oc1ccc(O)cc1    3064   \n",
       "1427     CCOC(=O)c1nc(-c2ccccn2)c(C(=O)OCC)nc1-c1ccccn1    3065   \n",
       "\n",
       "                                                Lattice  \n",
       "0     (30.502558800000003, 0.0, 0.0, 0.0, 30.5025588...  \n",
       "1     (20.36922552, 0.0, 0.0, 0.0, 20.36922552, 0.0,...  \n",
       "2     (24.34648104, 0.0, 0.0, 0.0, 24.34648104, 0.0,...  \n",
       "3     (24.650559360000003, 0.0, 0.0, 0.0, 24.6505593...  \n",
       "4     (29.09277, 0.0, 0.0, 0.0, 29.09277, 0.0, 0.0, ...  \n",
       "...                                                 ...  \n",
       "1423  (26.94702276, 0.0, 0.0, 0.0, 26.94702276, 0.0,...  \n",
       "1424  (37.42015536, 0.0, 0.0, 0.0, 37.42015536, 0.0,...  \n",
       "1425  (38.86254288000001, 0.0, 0.0, 0.0, 38.86254288...  \n",
       "1426  (31.45395456, 0.0, 0.0, 0.0, 31.45395456, 0.0,...  \n",
       "1427  (26.358340679999998, 0.0, 0.0, 0.0, 26.3583406...  \n",
       "\n",
       "[1428 rows x 3 columns]"
      ]
     },
     "execution_count": 108,
     "metadata": {},
     "output_type": "execute_result"
    }
   ],
   "source": [
    "ar_mol_df = pd.DataFrame.from_dict(ar_mol_dict)\n",
    "ar_mol_df"
   ]
  },
  {
   "cell_type": "code",
   "execution_count": 109,
   "id": "bf3131b4-6b3f-457e-a61a-3b489a510fc3",
   "metadata": {},
   "outputs": [],
   "source": [
    "ar_mol_df.to_csv(\"data/ar_molecules.tsv\", sep=\"\\t\")"
   ]
  }
 ],
 "metadata": {
  "kernelspec": {
   "display_name": "Python 3 (ipykernel)",
   "language": "python",
   "name": "python3"
  },
  "language_info": {
   "codemirror_mode": {
    "name": "ipython",
    "version": 3
   },
   "file_extension": ".py",
   "mimetype": "text/x-python",
   "name": "python",
   "nbconvert_exporter": "python",
   "pygments_lexer": "ipython3",
   "version": "3.12.0"
  }
 },
 "nbformat": 4,
 "nbformat_minor": 5
}
