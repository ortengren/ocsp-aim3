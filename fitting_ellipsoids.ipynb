{
 "cells": [
  {
   "cell_type": "code",
   "execution_count": 1,
   "id": "2b2500ab-4e3d-454d-ab5e-df199ffba045",
   "metadata": {},
   "outputs": [],
   "source": [
    "%matplotlib inline\n",
    "\n",
    "import numpy as np\n",
    "import matplotlib.pyplot as plt\n",
    "\n",
    "from scipy.spatial.distance import cosine\n",
    "\n",
    "from ase import Atoms, geometry, neighborlist\n",
    "from ase.io import read, write\n",
    "from ase.neighborlist import NeighborList\n",
    "from ase.visualize import view\n",
    "\n",
    "from scipy import sparse\n",
    "from scipy.spatial.transform import Rotation\n",
    "\n",
    "import networkx as nx\n",
    "\n",
    "import metatensor\n",
    "from rascaline import SoapPowerSpectrum\n",
    "from anisoap.representations import EllipsoidalDensityProjection\n",
    "from anisoap.utils import ClebschGordanReal, cg_combine, standardize_keys"
   ]
  },
  {
   "cell_type": "code",
   "execution_count": 2,
   "id": "940c66b6-836a-4372-9e0d-fb9ae08bf1a0",
   "metadata": {},
   "outputs": [],
   "source": [
    "mols = read(\"planar_mols.xyz\", \":\")\n",
    "\n",
    "NLIST_KWARGS = {\n",
    "    \"skin\": 0.3,   # doesn't matter for this application.\n",
    "    \"sorted\": False,\n",
    "    \"self_interaction\": False,\n",
    "    \"bothways\": True\n",
    "}"
   ]
  },
  {
   "cell_type": "code",
   "execution_count": 21,
   "id": "7380db54-d206-4dd8-9423-e20513be3c74",
   "metadata": {},
   "outputs": [],
   "source": [
    "def build_graph(mol: Atoms, nl=None):\n",
    "    if nl == None:\n",
    "        nl = neighborlist.build_neighbor_list(mol, self_interaction=False, bothways=True)\n",
    "    G = nx.Graph()\n",
    "    for i in range(len(mol)):\n",
    "        atom = mol[i]\n",
    "        nb_indices, offsets = nl.get_neighbors(i)\n",
    "        nb_atoms = [mol[a] for a in nb_indices]\n",
    "        el = [(i, nb) for nb in nb_indices]\n",
    "        G.add_edges_from(el)\n",
    "        G.nodes[i][\"atom\"] = mol[i]\n",
    "    return G\n",
    "\n",
    "def get_rings(frame, graph=None):\n",
    "    if graph == None:\n",
    "        G = build_graph(frame)\n",
    "    else:\n",
    "        G = graph\n",
    "    rings = nx.cycle_basis(G)\n",
    "    return rings\n",
    "\n",
    "def get_cluster_data(ring):\n",
    "    moments, axes = ring.get_moments_of_inertia(vectors=True)\n",
    "    mass = np.sum([atom.mass for atom in ring])\n",
    "    E = np.reshape(moments, (3,1))\n",
    "    coefs = np.array([[0, 1, 1],\n",
    "                      [1, 0, 1],\n",
    "                      [1, 1, 0]]) * mass / 5\n",
    "    return {\"axes\" : np.sqrt(np.linalg.solve(coefs, E)), \"moments\" : moments, \"eigenvectors\" : axes, \"mass\" : mass}\n",
    "    \n",
    "def get_ellipsoids(frame):\n",
    "    coms = []\n",
    "    quats = []\n",
    "    positions = []\n",
    "    dim1 = []\n",
    "    dim2 = []\n",
    "    dim3 = []\n",
    "    for i, ring in enumerate(get_rings(frame)):\n",
    "        cluster = frame[[a for a in range(len(frame)) if (a in ring and frame.arrays[\"numbers\"][a] == 6)]]\n",
    "        dist_vecs, _ = geometry.get_distances(cluster.positions)\n",
    "        pos_vecs = cluster.positions[0] + dist_vecs[0]\n",
    "        com = pos_vecs.mean(axis=0)\n",
    "        data = get_cluster_data(cluster)\n",
    "        rot = np.asarray(data[\"eigenvectors\"]).T\n",
    "        if np.isclose(np.linalg.det(rot), -1):\n",
    "            rot = np.matmul(rot, [[-1, 0, 0], [0, 1, 0], [0, 0, 1]])\n",
    "        for i in range(3):\n",
    "            print((data[\"axes\"][i-1]**2 + data[\"axes\"][i-2]**2) * data[\"mass\"] / 5)\n",
    "            print(data[\"moments\"][i], \"\\n\")\n",
    "        quat = Rotation.from_matrix(rot).as_quat()\n",
    "        quat = np.roll(quat, 1)\n",
    "        quats.append(quat)\n",
    "        positions.append(pos_vecs)\n",
    "        coms.append(com)\n",
    "        dim1.append(data[\"axes\"][0])\n",
    "        dim2.append(data[\"axes\"][1])\n",
    "        dim3.append(data[\"axes\"][2])\n",
    "    ell_frame = Atoms(positions = np.vstack(coms), cell = frame.cell, pbc = frame.pbc)\n",
    "    ell_frame.arrays[\"quaternions\"] = np.vstack(quats)\n",
    "    ell_frame.arrays[\"c_diameter[1]\"] = np.array(dim1)\n",
    "    ell_frame.arrays[\"c_diameter[2]\"] = np.array(dim2)\n",
    "    ell_frame.arrays[\"c_diameter[3]\"] = np.array(dim3)\n",
    "    return ell_frame"
   ]
  },
  {
   "cell_type": "code",
   "execution_count": 22,
   "id": "65a6a5e7-3cb3-4ea2-9839-249ed0b2e77f",
   "metadata": {
    "collapsed": true,
    "jupyter": {
     "outputs_hidden": true
    }
   },
   "outputs": [
    {
     "name": "stdout",
     "output_type": "stream",
     "text": [
      "[71.59301227]\n",
      "71.59301227328729 \n",
      "\n",
      "[73.12715094]\n",
      "73.12715094260395 \n",
      "\n",
      "[144.71916567]\n",
      "144.7191656653745 \n",
      "\n",
      "[72.25355439]\n",
      "72.25355438976106 \n",
      "\n",
      "[73.60214674]\n",
      "73.60214673808392 \n",
      "\n",
      "[145.85479239]\n",
      "145.85479238800005 \n",
      "\n",
      "[72.30011295]\n",
      "72.30011294721278 \n",
      "\n",
      "[73.74088246]\n",
      "73.74088245601457 \n",
      "\n",
      "[146.04098032]\n",
      "146.0409803203648 \n",
      "\n",
      "[72.25883538]\n",
      "72.25883537958453 \n",
      "\n",
      "[73.59362651]\n",
      "73.59362651191798 \n",
      "\n",
      "[145.85154497]\n",
      "145.85154497314804 \n",
      "\n",
      "[71.5893906]\n",
      "71.58939059818299 \n",
      "\n",
      "[73.12486506]\n",
      "73.12486505549741 \n",
      "\n",
      "[144.71327465]\n",
      "144.71327465266808 \n",
      "\n"
     ]
    }
   ],
   "source": [
    "frame = mols[0]\n",
    "ells = get_ellipsoids(frame)\n",
    "write(\"ells.xyz\", ells)\n",
    "write(\"frame.xyz\", frame)"
   ]
  },
  {
   "cell_type": "code",
   "execution_count": 27,
   "id": "6f07ca67-d689-4e5f-a05a-fca10e36ee7c",
   "metadata": {},
   "outputs": [],
   "source": [
    "lmax, nmax, gaussian, cutoff_radius = 9, 6, 1.5, 7.0\n",
    "mycg = ClebschGordanReal(lmax)\n",
    "\n",
    "ANISOAP_HYPERS = {\n",
    "    \"max_angular\": lmax,\n",
    "    \"max_radial\": nmax,\n",
    "    \"radial_basis_name\": \"gto\",\n",
    "    \"rotation_type\": \"quaternion\",\n",
    "    \"rotation_key\": \"quaternions\",\n",
    "    \"radial_gaussian_width\": gaussian,\n",
    "    \"cutoff_radius\": cutoff_radius,\n",
    "    \"basis_rcond\": 1e-8,\n",
    "    \"basis_tol\": 1e-4,\n",
    "}"
   ]
  },
  {
   "cell_type": "code",
   "execution_count": 32,
   "id": "f69365fa-c5df-4a6f-b380-6e391ce63661",
   "metadata": {},
   "outputs": [
    {
     "data": {
      "application/vnd.jupyter.widget-view+json": {
       "model_id": "4c1777dc390c4bcaa6635209df19a743",
       "version_major": 2,
       "version_minor": 0
      },
      "text/plain": [
       "Computing neighborlist:   0%|          | 0/1 [00:00<?, ?it/s]"
      ]
     },
     "metadata": {},
     "output_type": "display_data"
    },
    {
     "ename": "ValueError",
     "evalue": "setting an array element with a sequence. The requested array would exceed the maximum number of dimension of 1.",
     "output_type": "error",
     "traceback": [
      "\u001b[0;31m---------------------------------------------------------------------------\u001b[0m",
      "\u001b[0;31mValueError\u001b[0m                                Traceback (most recent call last)",
      "Cell \u001b[0;32mIn[32], line 2\u001b[0m\n\u001b[1;32m      1\u001b[0m calculator \u001b[38;5;241m=\u001b[39m EllipsoidalDensityProjection(\u001b[38;5;241m*\u001b[39m\u001b[38;5;241m*\u001b[39mANISOAP_HYPERS)\n\u001b[0;32m----> 2\u001b[0m rep_raw \u001b[38;5;241m=\u001b[39m \u001b[43mcalculator\u001b[49m\u001b[38;5;241;43m.\u001b[39;49m\u001b[43mtransform\u001b[49m\u001b[43m(\u001b[49m\u001b[43m[\u001b[49m\u001b[43mells\u001b[49m\u001b[43m]\u001b[49m\u001b[43m,\u001b[49m\u001b[43m \u001b[49m\u001b[43mshow_progress\u001b[49m\u001b[38;5;241;43m=\u001b[39;49m\u001b[38;5;28;43;01mTrue\u001b[39;49;00m\u001b[43m)\u001b[49m\n",
      "File \u001b[0;32m~/mambaforge/envs/cersonsky/lib/python3.12/site-packages/anisoap/representations/ellipsoidal_density_projection.py:632\u001b[0m, in \u001b[0;36mEllipsoidalDensityProjection.transform\u001b[0;34m(self, frames, show_progress, normalize, rust_moments)\u001b[0m\n\u001b[1;32m    627\u001b[0m         \u001b[38;5;28;01melse\u001b[39;00m:\n\u001b[1;32m    628\u001b[0m             warnings\u001b[38;5;241m.\u001b[39mwarn(\n\u001b[1;32m    629\u001b[0m                 \u001b[38;5;124mf\u001b[39m\u001b[38;5;124m\"\u001b[39m\u001b[38;5;124mFrame \u001b[39m\u001b[38;5;132;01m{\u001b[39;00mi\u001b[38;5;132;01m}\u001b[39;00m\u001b[38;5;124m does not have rotations stored, this may cause errors down the line.\u001b[39m\u001b[38;5;124m\"\u001b[39m\n\u001b[1;32m    630\u001b[0m             )\n\u001b[0;32m--> 632\u001b[0m         \u001b[43mellipsoid_lengths\u001b[49m\u001b[43m[\u001b[49m\u001b[43mj_global\u001b[49m\u001b[43m]\u001b[49m \u001b[38;5;241m=\u001b[39m [\n\u001b[1;32m    633\u001b[0m             frames[i]\u001b[38;5;241m.\u001b[39marrays[\u001b[38;5;124m\"\u001b[39m\u001b[38;5;124mc_diameter[1]\u001b[39m\u001b[38;5;124m\"\u001b[39m][j] \u001b[38;5;241m/\u001b[39m \u001b[38;5;241m2\u001b[39m,\n\u001b[1;32m    634\u001b[0m             frames[i]\u001b[38;5;241m.\u001b[39marrays[\u001b[38;5;124m\"\u001b[39m\u001b[38;5;124mc_diameter[2]\u001b[39m\u001b[38;5;124m\"\u001b[39m][j] \u001b[38;5;241m/\u001b[39m \u001b[38;5;241m2\u001b[39m,\n\u001b[1;32m    635\u001b[0m             frames[i]\u001b[38;5;241m.\u001b[39marrays[\u001b[38;5;124m\"\u001b[39m\u001b[38;5;124mc_diameter[3]\u001b[39m\u001b[38;5;124m\"\u001b[39m][j] \u001b[38;5;241m/\u001b[39m \u001b[38;5;241m2\u001b[39m,\n\u001b[1;32m    636\u001b[0m         ]\n\u001b[1;32m    638\u001b[0m \u001b[38;5;28mself\u001b[39m\u001b[38;5;241m.\u001b[39mnl \u001b[38;5;241m=\u001b[39m NeighborList(\n\u001b[1;32m    639\u001b[0m     \u001b[38;5;28mself\u001b[39m\u001b[38;5;241m.\u001b[39mcutoff_radius, \u001b[38;5;28;01mTrue\u001b[39;00m, (\u001b[38;5;129;01mnot\u001b[39;00m \u001b[38;5;28mself\u001b[39m\u001b[38;5;241m.\u001b[39msubtract_center_contribution)\n\u001b[1;32m    640\u001b[0m )\u001b[38;5;241m.\u001b[39mcompute(frame_generator)\n\u001b[1;32m    642\u001b[0m pairwise_ellip_feat \u001b[38;5;241m=\u001b[39m pairwise_ellip_expansion(\n\u001b[1;32m    643\u001b[0m     \u001b[38;5;28mself\u001b[39m\u001b[38;5;241m.\u001b[39mmax_angular,\n\u001b[1;32m    644\u001b[0m     \u001b[38;5;28mself\u001b[39m\u001b[38;5;241m.\u001b[39mnl,\n\u001b[0;32m   (...)\u001b[0m\n\u001b[1;32m    652\u001b[0m     rust_moments\u001b[38;5;241m=\u001b[39mrust_moments,\n\u001b[1;32m    653\u001b[0m )\n",
      "\u001b[0;31mValueError\u001b[0m: setting an array element with a sequence. The requested array would exceed the maximum number of dimension of 1."
     ]
    }
   ],
   "source": [
    "calculator = EllipsoidalDensityProjection(**ANISOAP_HYPERS)\n",
    "rep_raw = calculator.transform([ells], show_progress=True)"
   ]
  }
 ],
 "metadata": {
  "kernelspec": {
   "display_name": "Python 3 (ipykernel)",
   "language": "python",
   "name": "python3"
  },
  "language_info": {
   "codemirror_mode": {
    "name": "ipython",
    "version": 3
   },
   "file_extension": ".py",
   "mimetype": "text/x-python",
   "name": "python",
   "nbconvert_exporter": "python",
   "pygments_lexer": "ipython3",
   "version": "3.12.7"
  }
 },
 "nbformat": 4,
 "nbformat_minor": 5
}
