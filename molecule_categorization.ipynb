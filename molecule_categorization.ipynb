{
 "cells": [
  {
   "cell_type": "code",
   "execution_count": 1,
   "id": "90f04aa3-3c38-4ffc-8f77-1c2e66d6a0e1",
   "metadata": {},
   "outputs": [],
   "source": [
    "import numpy as np\n",
    "import pandas as pd\n",
    "import ipywidgets as widgets\n",
    "from ipywidgets import interact, interactive, fixed, interact_manual\n",
    "from ase.visualize import view\n",
    "from ase.visualize.ngl import view_ngl\n",
    "from ase.io import read, write\n",
    "from ase.geometry.analysis import Analysis\n",
    "from pysmiles import write_smiles\n",
    "from rdkit import Chem\n",
    "from tqdm import tqdm\n",
    "from rdkit.Chem import Draw\n",
    "%matplotlib inline"
   ]
  },
  {
   "cell_type": "code",
   "execution_count": 2,
   "id": "38ed9f78-b832-4321-b7ee-4e354229933d",
   "metadata": {},
   "outputs": [],
   "source": [
    "with open(\"data/all_relaxed_molecules_tagged.xyz\", \"r\") as f:\n",
    "    lines = f.readlines()"
   ]
  },
  {
   "cell_type": "code",
   "execution_count": 3,
   "id": "3a53d96c-f944-4bd1-b16a-ebda5f4419da",
   "metadata": {},
   "outputs": [],
   "source": [
    "blocks = []\n",
    "block = lines[0]\n",
    "i = 1\n",
    "while i < len(lines):\n",
    "    if lines[i][0].isdecimal():\n",
    "        blocks.append(block)\n",
    "        block = \"\"\n",
    "    block = block + lines[i]\n",
    "    i += 1"
   ]
  },
  {
   "cell_type": "code",
   "execution_count": 4,
   "id": "99364c72-b9c7-4f7b-ad85-8ded7b3ba0f6",
   "metadata": {},
   "outputs": [],
   "source": [
    "ase_mols = read(\"data/all_relaxed_molecules.xyz\", index=\":\")"
   ]
  },
  {
   "cell_type": "code",
   "execution_count": 5,
   "id": "44879ae1-bb35-4425-a250-3b60c0785f73",
   "metadata": {},
   "outputs": [],
   "source": [
    "class Molecule:\n",
    "    def __init__(self, str):\n",
    "        self.lines = str.split(\"\\n\")\n",
    "        lines = self.lines\n",
    "        self.num_atoms = lines[0]\n",
    "        self.lattice = tuple(lines[1][0:lines[1].index(\" Properties\")].split('\"')[1].split())\n",
    "        props = lines[1][lines[1].index(\"Properties\")+11:-1]\n",
    "        self.dft_energy_ryd = props[props.index(\"dft_energy_ryd=\")+16:props.index(\" molecule_idx\")]\n",
    "        self.molecule_idx = props[props.index(\"molecule_idx\")+13:props.index(\" crystal_idx\")]\n",
    "        self.crystal_idx = props[props.index(\"crystal_idx\")+12:props.index(\" motif_idx\")]\n",
    "        m_idx = props[props.index(\"motif_idx\")+17:props.index(\"motif_names\")]\n",
    "        m_idx = m_idx[2:].split(\"[\")\n",
    "        l = []\n",
    "        for el in m_idx:\n",
    "            sub = [int(c) for c in el if c.isdecimal()]\n",
    "            l.append(sub)\n",
    "        self.motif_idx = l\n",
    "        m_names = props[props.index(\"motif_names\")+19:props.index(\" pbc\")]\n",
    "        m_names = m_names.split()\n",
    "        self.motif_names = [name.strip(\"\\\\[,\\\"]\") for name in m_names]\n",
    "        self.pbc = lines[1][lines[1].index(\"pbc=\")+5:].rstrip('\"')\n",
    "        self.atoms = lines[2:]\n",
    "        xyz = \"\"\n",
    "        for line in lines[2:]:\n",
    "            xyz += line + \"\\n\"\n",
    "        self.xyz = f\"{self.num_atoms}\\n\" + xyz[:-1]"
   ]
  },
  {
   "cell_type": "code",
   "execution_count": 6,
   "id": "be71d538-781b-4dc9-9f5f-24d888c98675",
   "metadata": {},
   "outputs": [],
   "source": [
    "mols = [Molecule(block) for block in blocks]\n",
    "mols = list(zip(mols, ase_mols))"
   ]
  },
  {
   "cell_type": "code",
   "execution_count": 7,
   "id": "16a2cd20-761f-4020-8d14-2e6602012a84",
   "metadata": {},
   "outputs": [],
   "source": [
    "all_motifs = []\n",
    "for (mol, ase_mol) in mols:\n",
    "    all_motifs += mol.motif_names\n",
    "\n",
    "all_motifs = np.unique(all_motifs)"
   ]
  },
  {
   "cell_type": "code",
   "execution_count": 8,
   "id": "d67186f8-95c1-4943-9780-0b4ba1adf3d5",
   "metadata": {},
   "outputs": [],
   "source": [
    "AROMATIC_MOTIFS = ['Aryl_NH', 'benzene', 'diazine', 'furan', 'imidazole', 'isoxazole', \n",
    "                   'oxidiazole', 'pentazole', 'pyrazole', 'pyridine', 'pyrrole', 'tetrazine', \n",
    "                   'tetrazole', 'thiazole', 'thiophene', 'triazine', 'triazole']\n",
    "\n",
    "UNKNOWN_MOTIFS = ['C=O_noCOO', 'quatN', 'sulfide_chain', 'tetrazole', 'thiocarboxamide', 'thiodiazole']"
   ]
  },
  {
   "cell_type": "code",
   "execution_count": 9,
   "id": "9bb3ac92-56fe-419b-86ef-2e6be59b4d5c",
   "metadata": {},
   "outputs": [],
   "source": [
    "# list of pairs of the form (molecule, num of aromatic motifs)\n",
    "mol_aromas = []\n",
    "for (mol, ase_mol) in mols:\n",
    "    i = 0\n",
    "    for motif in np.unique(mol.motif_names):\n",
    "        if motif in AROMATIC_MOTIFS:\n",
    "            i += 1\n",
    "    mol_aromas.append(((mol, ase_mol), i))\n",
    "\n",
    "# aromatic molecules\n",
    "armols = [(mol, ase_mol) for ((mol, ase_mol), aroma) in mol_aromas if aroma > 0]\n",
    "# non-aromatic molecules\n",
    "non_armols = [(mol, ase_mol) for ((mol, ase_mol), aroma) in mol_aromas if aroma == 0]"
   ]
  },
  {
   "cell_type": "code",
   "execution_count": 23,
   "id": "d07e33ee-a6ee-401d-8793-f0dcabeacdf1",
   "metadata": {},
   "outputs": [
    {
     "data": {
      "application/vnd.jupyter.widget-view+json": {
       "model_id": "32f339ac3a214697bb3395199007c8df",
       "version_major": 2,
       "version_minor": 0
      },
      "text/plain": [
       "interactive(children=(BoundedIntText(value=0, description='x', max=1487), Output()), _dom_classes=('widget-int…"
      ]
     },
     "metadata": {},
     "output_type": "display_data"
    },
    {
     "data": {
      "text/plain": [
       "<function __main__.picture_mols(x)>"
      ]
     },
     "execution_count": 23,
     "metadata": {},
     "output_type": "execute_result"
    }
   ],
   "source": [
    "out = widgets.Output()\n",
    "\n",
    "def picture_mols(x):\n",
    "    out.clear_output()\n",
    "    display(out)\n",
    "    v = view(armols[x][1], viewer=\"ngl\")\n",
    "    v.control_box.children[2].value = 0.8\n",
    "    return v\n",
    "\n",
    "ibox = widgets.BoundedIntText(min=0, max=1487)\n",
    "interact(picture_mols, x=ibox)"
   ]
  }
 ],
 "metadata": {
  "kernelspec": {
   "display_name": "Python 3 (ipykernel)",
   "language": "python",
   "name": "python3"
  },
  "language_info": {
   "codemirror_mode": {
    "name": "ipython",
    "version": 3
   },
   "file_extension": ".py",
   "mimetype": "text/x-python",
   "name": "python",
   "nbconvert_exporter": "python",
   "pygments_lexer": "ipython3",
   "version": "3.12.0"
  }
 },
 "nbformat": 4,
 "nbformat_minor": 5
}
