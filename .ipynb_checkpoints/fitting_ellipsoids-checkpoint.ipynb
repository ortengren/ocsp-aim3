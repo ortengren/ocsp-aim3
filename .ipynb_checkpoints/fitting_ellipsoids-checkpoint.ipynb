{
 "cells": [
  {
   "cell_type": "code",
   "execution_count": 1,
   "id": "2b2500ab-4e3d-454d-ab5e-df199ffba045",
   "metadata": {},
   "outputs": [],
   "source": [
    "%matplotlib inline\n",
    "\n",
    "import numpy as np\n",
    "import matplotlib.pyplot as plt\n",
    "\n",
    "from scipy.spatial.distance import cosine\n",
    "\n",
    "from ase import Atoms, geometry, neighborlist\n",
    "from ase.io import read, write\n",
    "from ase.neighborlist import NeighborList\n",
    "from ase.visualize import view\n",
    "\n",
    "from scipy import sparse\n",
    "from scipy.spatial.transform import Rotation\n",
    "\n",
    "import networkx as nx\n",
    "\n",
    "import metatensor\n",
    "from featomic import SoapPowerSpectrum\n",
    "from anisoap.representations import EllipsoidalDensityProjection\n",
    "from anisoap.utils import ClebschGordanReal, cg_combine, standardize_keys"
   ]
  },
  {
   "cell_type": "code",
   "execution_count": 2,
   "id": "940c66b6-836a-4372-9e0d-fb9ae08bf1a0",
   "metadata": {},
   "outputs": [],
   "source": [
    "mols = read(\"planar_mols.xyz\", \":\")\n",
    "\n",
    "NLIST_KWARGS = {\n",
    "    \"skin\": 0.3,   # doesn't matter for this application.\n",
    "    \"sorted\": False,\n",
    "    \"self_interaction\": False,\n",
    "    \"bothways\": True\n",
    "}"
   ]
  },
  {
   "cell_type": "code",
   "execution_count": 3,
   "id": "7380db54-d206-4dd8-9423-e20513be3c74",
   "metadata": {},
   "outputs": [],
   "source": [
    "def build_graph(mol: Atoms, nl=None):\n",
    "    if nl == None:\n",
    "        nl = neighborlist.build_neighbor_list(mol, self_interaction=False, bothways=True)\n",
    "    G = nx.Graph()\n",
    "    for i in range(len(mol)):\n",
    "        atom = mol[i]\n",
    "        nb_indices, offsets = nl.get_neighbors(i)\n",
    "        nb_atoms = [mol[a] for a in nb_indices]\n",
    "        el = [(i, nb) for nb in nb_indices]\n",
    "        G.add_edges_from(el)\n",
    "        G.nodes[i][\"atom\"] = mol[i]\n",
    "    return G\n",
    "\n",
    "def get_rings(frame, graph=None):\n",
    "    if graph == None:\n",
    "        G = build_graph(frame)\n",
    "    else:\n",
    "        G = graph\n",
    "    rings = nx.cycle_basis(G)\n",
    "    return rings\n",
    "\n",
    "def get_cluster_data(ring):\n",
    "    moments, axes = ring.get_moments_of_inertia(vectors=True)\n",
    "    mass = np.sum([atom.mass for atom in ring])\n",
    "    E = np.reshape(moments, (3,1))\n",
    "    coefs = np.array([[0, 1, 1],\n",
    "                      [1, 0, 1],\n",
    "                      [1, 1, 0]]) * mass / 5\n",
    "    return {\"axes\" : np.sqrt(np.linalg.solve(coefs, E)), \"moments\" : moments, \"eigenvectors\" : axes, \"mass\" : mass}\n",
    "    \n",
    "def get_ellipsoids(frame):\n",
    "    coms = []\n",
    "    quats = []\n",
    "    positions = []\n",
    "    dim1 = []\n",
    "    dim2 = []\n",
    "    dim3 = []\n",
    "    for i, ring in enumerate(get_rings(frame)):\n",
    "        cluster = frame[[a for a in range(len(frame)) if (a in ring and frame.arrays[\"numbers\"][a] == 6)]]\n",
    "        dist_vecs, _ = geometry.get_distances(cluster.positions)\n",
    "        pos_vecs = cluster.positions[0] + dist_vecs[0]\n",
    "        com = pos_vecs.mean(axis=0).flatten()\n",
    "        data = get_cluster_data(cluster)\n",
    "        rot = np.asarray(data[\"eigenvectors\"]).T\n",
    "        if np.isclose(np.linalg.det(rot), -1):\n",
    "            rot = np.matmul(rot, [[-1, 0, 0], [0, 1, 0], [0, 0, 1]])\n",
    "        for i in range(3):\n",
    "            print((data[\"axes\"][i-1]**2 + data[\"axes\"][i-2]**2) * data[\"mass\"] / 5)\n",
    "            print(data[\"moments\"][i], \"\\n\")\n",
    "        quat = Rotation.from_matrix(rot).as_quat()\n",
    "        quat = np.roll(quat, 1)\n",
    "        quats.append(quat)\n",
    "        positions.append(pos_vecs)\n",
    "        coms.append(com)\n",
    "        dim1.append(data[\"axes\"][0])\n",
    "        dim2.append(data[\"axes\"][1])\n",
    "        dim3.append(data[\"axes\"][2])\n",
    "    ell_frame = Atoms(positions = np.vstack(coms), cell = frame.cell, pbc = frame.pbc)\n",
    "    ell_frame.arrays[\"quaternions\"] = np.vstack(quats)\n",
    "    ell_frame.arrays[\"c_diameter[1]\"] = np.array(dim1).flatten()\n",
    "    ell_frame.arrays[\"c_diameter[2]\"] = np.array(dim2).flatten()\n",
    "    ell_frame.arrays[\"c_diameter[3]\"] = np.array(dim3).flatten()\n",
    "    return ell_frame"
   ]
  },
  {
   "cell_type": "code",
   "execution_count": 4,
   "id": "65a6a5e7-3cb3-4ea2-9839-249ed0b2e77f",
   "metadata": {},
   "outputs": [
    {
     "name": "stdout",
     "output_type": "stream",
     "text": [
      "[71.59301227]\n",
      "71.59301227328729 \n",
      "\n",
      "[73.12715094]\n",
      "73.12715094260395 \n",
      "\n",
      "[144.71916567]\n",
      "144.7191656653745 \n",
      "\n",
      "[72.25355439]\n",
      "72.25355438976106 \n",
      "\n",
      "[73.60214674]\n",
      "73.60214673808392 \n",
      "\n",
      "[145.85479239]\n",
      "145.85479238800005 \n",
      "\n",
      "[72.30011295]\n",
      "72.30011294721278 \n",
      "\n",
      "[73.74088246]\n",
      "73.74088245601457 \n",
      "\n",
      "[146.04098032]\n",
      "146.0409803203648 \n",
      "\n",
      "[72.25883538]\n",
      "72.25883537958453 \n",
      "\n",
      "[73.59362651]\n",
      "73.59362651191798 \n",
      "\n",
      "[145.85154497]\n",
      "145.85154497314804 \n",
      "\n",
      "[71.5893906]\n",
      "71.58939059818299 \n",
      "\n",
      "[73.12486506]\n",
      "73.12486505549741 \n",
      "\n",
      "[144.71327465]\n",
      "144.71327465266808 \n",
      "\n"
     ]
    }
   ],
   "source": [
    "frame = mols[0]\n",
    "ells = get_ellipsoids(frame)\n",
    "write(\"ells.xyz\", ells)\n",
    "write(\"frame.xyz\", frame)"
   ]
  },
  {
   "cell_type": "code",
   "execution_count": 9,
   "id": "a236c199-1d80-4769-8751-e6ffb5c2a7ae",
   "metadata": {},
   "outputs": [
    {
     "data": {
      "text/plain": [
       "{'numbers': array([0, 0, 0, 0, 0]),\n",
       " 'positions': array([[22.03396858, 23.59597341, 28.44703872],\n",
       "        [22.97101767, 23.76543563, 26.18356313],\n",
       "        [23.92444999, 23.92448481, 23.92448566],\n",
       "        [24.87790901, 24.08341892, 21.66535683],\n",
       "        [25.81498821, 24.25294058, 19.40187625]]),\n",
       " 'quaternions': array([[-0.21029928, -0.47194686,  0.64878569,  0.55867478],\n",
       "        [-0.21056917, -0.47592557,  0.64986413,  0.55392426],\n",
       "        [-0.20811275, -0.48042936,  0.64919137,  0.5517493 ],\n",
       "        [-0.2112919 , -0.47505923,  0.65052006,  0.55362271],\n",
       "        [-0.21177596, -0.47025332,  0.64997554,  0.55816176]]),\n",
       " 'c_diameter[1]': array([2.25246286, 2.25976716, 2.26190279, 2.2596363 , 2.25242778]),\n",
       " 'c_diameter[2]': array([2.22871019, 2.23896877, 2.23969695, 2.23905053, 2.22865394]),\n",
       " 'c_diameter[3]': array([0.00588264, 0.00561467, 0.00072335, 0.00563988, 0.00583364])}"
      ]
     },
     "execution_count": 9,
     "metadata": {},
     "output_type": "execute_result"
    }
   ],
   "source": [
    "ells.arrays"
   ]
  },
  {
   "cell_type": "code",
   "execution_count": 5,
   "id": "6f07ca67-d689-4e5f-a05a-fca10e36ee7c",
   "metadata": {},
   "outputs": [],
   "source": [
    "lmax, nmax, gaussian, cutoff_radius = 9, 6, 1.5, 7.0\n",
    "mycg = ClebschGordanReal(lmax)\n",
    "\n",
    "ANISOAP_HYPERS = {\n",
    "    \"max_angular\": lmax,\n",
    "    \"max_radial\": nmax,\n",
    "    \"radial_basis_name\": \"gto\",\n",
    "    \"rotation_type\": \"quaternion\",\n",
    "    \"rotation_key\": \"quaternions\",\n",
    "    \"radial_gaussian_width\": gaussian,\n",
    "    \"cutoff_radius\": cutoff_radius,\n",
    "    \"basis_rcond\": 1e-8,\n",
    "    \"basis_tol\": 1e-4,\n",
    "}"
   ]
  },
  {
   "cell_type": "code",
   "execution_count": 6,
   "id": "f69365fa-c5df-4a6f-b380-6e391ce63661",
   "metadata": {},
   "outputs": [
    {
     "name": "stderr",
     "output_type": "stream",
     "text": [
      "/home/lucas/miniforge3/envs/featomic/lib/python3.11/site-packages/anisoap/representations/ellipsoidal_density_projection.py:547: UserWarning: In quaternion mode, quaternions are assumed to be in (w,x,y,z) format.\n",
      "  warnings.warn(\n"
     ]
    },
    {
     "data": {
      "application/vnd.jupyter.widget-view+json": {
       "model_id": "9a34e635692942eeb67d6c4acc37e10c",
       "version_major": 2,
       "version_minor": 0
      },
      "text/plain": [
       "Computing neighborlist:   0%|          | 0/1 [00:00<?, ?it/s]"
      ]
     },
     "metadata": {},
     "output_type": "display_data"
    },
    {
     "name": "stderr",
     "output_type": "stream",
     "text": [
      "/home/lucas/miniforge3/envs/featomic/lib/python3.11/site-packages/featomic/systems/ase.py:57: UserWarning: periodic boundary conditions are disabled, but the cell matrix is not zero, we will set the cell to zero.\n",
      "  warnings.warn(\n"
     ]
    },
    {
     "data": {
      "application/vnd.jupyter.widget-view+json": {
       "model_id": "b6e1799965d74a8a971b85e35fb882a4",
       "version_major": 2,
       "version_minor": 0
      },
      "text/plain": [
       "Iterating samples for (0, 0):   0%|          | 0/19 [00:00<?, ?it/s]"
      ]
     },
     "metadata": {},
     "output_type": "display_data"
    },
    {
     "data": {
      "application/vnd.jupyter.widget-view+json": {
       "model_id": "92608512ae1342c5bc39a6d96a7f7bc1",
       "version_major": 2,
       "version_minor": 0
      },
      "text/plain": [
       "Accruing lmax:   0%|          | 0/10 [00:00<?, ?it/s]"
      ]
     },
     "metadata": {},
     "output_type": "display_data"
    },
    {
     "data": {
      "application/vnd.jupyter.widget-view+json": {
       "model_id": "0c8ecea5d6a341278708f7180c69c445",
       "version_major": 2,
       "version_minor": 0
      },
      "text/plain": [
       "Iterating tensor block keys:   0%|          | 0/10 [00:00<?, ?it/s]"
      ]
     },
     "metadata": {},
     "output_type": "display_data"
    },
    {
     "data": {
      "application/vnd.jupyter.widget-view+json": {
       "model_id": "fdccbb0b84c34a8a9887ee5f775f0a8a",
       "version_major": 2,
       "version_minor": 0
      },
      "text/plain": [
       "Iterating neighbor types:   0%|          | 0/1 [00:00<?, ?it/s]"
      ]
     },
     "metadata": {},
     "output_type": "display_data"
    },
    {
     "data": {
      "application/vnd.jupyter.widget-view+json": {
       "model_id": "4ee8051c5a6a4b159aef22c11926d937",
       "version_major": 2,
       "version_minor": 0
      },
      "text/plain": [
       "Finding matching block samples:   0%|          | 0/5 [00:00<?, ?it/s]"
      ]
     },
     "metadata": {},
     "output_type": "display_data"
    },
    {
     "data": {
      "application/vnd.jupyter.widget-view+json": {
       "model_id": "3959935f4c1045b6a3152dd6becf745e",
       "version_major": 2,
       "version_minor": 0
      },
      "text/plain": [
       "Contracting features:   0%|          | 0/1 [00:00<?, ?it/s]"
      ]
     },
     "metadata": {},
     "output_type": "display_data"
    },
    {
     "data": {
      "application/vnd.jupyter.widget-view+json": {
       "model_id": "56c4500eb30544888f36a3e8fb5e9fff",
       "version_major": 2,
       "version_minor": 0
      },
      "text/plain": [
       "Iterating neighbor types:   0%|          | 0/1 [00:00<?, ?it/s]"
      ]
     },
     "metadata": {},
     "output_type": "display_data"
    },
    {
     "data": {
      "application/vnd.jupyter.widget-view+json": {
       "model_id": "4c346bd7fd704883828fada75b8e546a",
       "version_major": 2,
       "version_minor": 0
      },
      "text/plain": [
       "Finding matching block samples:   0%|          | 0/5 [00:00<?, ?it/s]"
      ]
     },
     "metadata": {},
     "output_type": "display_data"
    },
    {
     "data": {
      "application/vnd.jupyter.widget-view+json": {
       "model_id": "12b10cbdba0541849cb914908508b16d",
       "version_major": 2,
       "version_minor": 0
      },
      "text/plain": [
       "Contracting features:   0%|          | 0/1 [00:00<?, ?it/s]"
      ]
     },
     "metadata": {},
     "output_type": "display_data"
    },
    {
     "data": {
      "application/vnd.jupyter.widget-view+json": {
       "model_id": "60738589c2484b96ab3646cfd853ff61",
       "version_major": 2,
       "version_minor": 0
      },
      "text/plain": [
       "Iterating neighbor types:   0%|          | 0/1 [00:00<?, ?it/s]"
      ]
     },
     "metadata": {},
     "output_type": "display_data"
    },
    {
     "data": {
      "application/vnd.jupyter.widget-view+json": {
       "model_id": "d1ebf213c6894617addb530c0a1bbad5",
       "version_major": 2,
       "version_minor": 0
      },
      "text/plain": [
       "Finding matching block samples:   0%|          | 0/5 [00:00<?, ?it/s]"
      ]
     },
     "metadata": {},
     "output_type": "display_data"
    },
    {
     "data": {
      "application/vnd.jupyter.widget-view+json": {
       "model_id": "ee33b9ca41534ba18160449981cf9823",
       "version_major": 2,
       "version_minor": 0
      },
      "text/plain": [
       "Contracting features:   0%|          | 0/1 [00:00<?, ?it/s]"
      ]
     },
     "metadata": {},
     "output_type": "display_data"
    },
    {
     "data": {
      "application/vnd.jupyter.widget-view+json": {
       "model_id": "240576c472c046d4a57cb5450849e5e8",
       "version_major": 2,
       "version_minor": 0
      },
      "text/plain": [
       "Iterating neighbor types:   0%|          | 0/1 [00:00<?, ?it/s]"
      ]
     },
     "metadata": {},
     "output_type": "display_data"
    },
    {
     "data": {
      "application/vnd.jupyter.widget-view+json": {
       "model_id": "dcf04f808ce04a8da4daf68ff0369177",
       "version_major": 2,
       "version_minor": 0
      },
      "text/plain": [
       "Finding matching block samples:   0%|          | 0/5 [00:00<?, ?it/s]"
      ]
     },
     "metadata": {},
     "output_type": "display_data"
    },
    {
     "data": {
      "application/vnd.jupyter.widget-view+json": {
       "model_id": "60a68c09672047f88f2cbebb14afd386",
       "version_major": 2,
       "version_minor": 0
      },
      "text/plain": [
       "Contracting features:   0%|          | 0/1 [00:00<?, ?it/s]"
      ]
     },
     "metadata": {},
     "output_type": "display_data"
    },
    {
     "data": {
      "application/vnd.jupyter.widget-view+json": {
       "model_id": "5f7b866ca1a045848c687e7aa80a3bf9",
       "version_major": 2,
       "version_minor": 0
      },
      "text/plain": [
       "Iterating neighbor types:   0%|          | 0/1 [00:00<?, ?it/s]"
      ]
     },
     "metadata": {},
     "output_type": "display_data"
    },
    {
     "data": {
      "application/vnd.jupyter.widget-view+json": {
       "model_id": "1bfe954df7734e7b8aff65262a4d3117",
       "version_major": 2,
       "version_minor": 0
      },
      "text/plain": [
       "Finding matching block samples:   0%|          | 0/5 [00:00<?, ?it/s]"
      ]
     },
     "metadata": {},
     "output_type": "display_data"
    },
    {
     "data": {
      "application/vnd.jupyter.widget-view+json": {
       "model_id": "a27734cbe091444b940e61d644973bb0",
       "version_major": 2,
       "version_minor": 0
      },
      "text/plain": [
       "Contracting features:   0%|          | 0/1 [00:00<?, ?it/s]"
      ]
     },
     "metadata": {},
     "output_type": "display_data"
    },
    {
     "data": {
      "application/vnd.jupyter.widget-view+json": {
       "model_id": "4098c96eaa574bc08c9104b7190c1e9d",
       "version_major": 2,
       "version_minor": 0
      },
      "text/plain": [
       "Iterating neighbor types:   0%|          | 0/1 [00:00<?, ?it/s]"
      ]
     },
     "metadata": {},
     "output_type": "display_data"
    },
    {
     "data": {
      "application/vnd.jupyter.widget-view+json": {
       "model_id": "c47cd8d452de43d9b0848dbb52d8272b",
       "version_major": 2,
       "version_minor": 0
      },
      "text/plain": [
       "Finding matching block samples:   0%|          | 0/5 [00:00<?, ?it/s]"
      ]
     },
     "metadata": {},
     "output_type": "display_data"
    },
    {
     "data": {
      "application/vnd.jupyter.widget-view+json": {
       "model_id": "72a44da0fa734346956c67fedfa1f966",
       "version_major": 2,
       "version_minor": 0
      },
      "text/plain": [
       "Contracting features:   0%|          | 0/1 [00:00<?, ?it/s]"
      ]
     },
     "metadata": {},
     "output_type": "display_data"
    },
    {
     "data": {
      "application/vnd.jupyter.widget-view+json": {
       "model_id": "7a5afbc8252d4b55af275f15677ec949",
       "version_major": 2,
       "version_minor": 0
      },
      "text/plain": [
       "Iterating neighbor types:   0%|          | 0/1 [00:00<?, ?it/s]"
      ]
     },
     "metadata": {},
     "output_type": "display_data"
    },
    {
     "data": {
      "application/vnd.jupyter.widget-view+json": {
       "model_id": "96311ff9553a401590993b65087ac869",
       "version_major": 2,
       "version_minor": 0
      },
      "text/plain": [
       "Finding matching block samples:   0%|          | 0/5 [00:00<?, ?it/s]"
      ]
     },
     "metadata": {},
     "output_type": "display_data"
    },
    {
     "data": {
      "application/vnd.jupyter.widget-view+json": {
       "model_id": "1c6d626eb5aa461f8a576ca63323f25d",
       "version_major": 2,
       "version_minor": 0
      },
      "text/plain": [
       "Contracting features:   0%|          | 0/1 [00:00<?, ?it/s]"
      ]
     },
     "metadata": {},
     "output_type": "display_data"
    },
    {
     "data": {
      "application/vnd.jupyter.widget-view+json": {
       "model_id": "24b60c0195f544b49540a516da8e5ca3",
       "version_major": 2,
       "version_minor": 0
      },
      "text/plain": [
       "Iterating neighbor types:   0%|          | 0/1 [00:00<?, ?it/s]"
      ]
     },
     "metadata": {},
     "output_type": "display_data"
    },
    {
     "data": {
      "application/vnd.jupyter.widget-view+json": {
       "model_id": "6300076d984a42dc9a3bf45a1c0de9e0",
       "version_major": 2,
       "version_minor": 0
      },
      "text/plain": [
       "Finding matching block samples:   0%|          | 0/5 [00:00<?, ?it/s]"
      ]
     },
     "metadata": {},
     "output_type": "display_data"
    },
    {
     "data": {
      "application/vnd.jupyter.widget-view+json": {
       "model_id": "c755a555564d4521b670004ec088d96d",
       "version_major": 2,
       "version_minor": 0
      },
      "text/plain": [
       "Contracting features:   0%|          | 0/1 [00:00<?, ?it/s]"
      ]
     },
     "metadata": {},
     "output_type": "display_data"
    },
    {
     "data": {
      "application/vnd.jupyter.widget-view+json": {
       "model_id": "c9eeae513bb74286a4209c778b06ee8f",
       "version_major": 2,
       "version_minor": 0
      },
      "text/plain": [
       "Iterating neighbor types:   0%|          | 0/1 [00:00<?, ?it/s]"
      ]
     },
     "metadata": {},
     "output_type": "display_data"
    },
    {
     "data": {
      "application/vnd.jupyter.widget-view+json": {
       "model_id": "fe8e2e2c3b5c41e9a13cd6e90e7823b0",
       "version_major": 2,
       "version_minor": 0
      },
      "text/plain": [
       "Finding matching block samples:   0%|          | 0/5 [00:00<?, ?it/s]"
      ]
     },
     "metadata": {},
     "output_type": "display_data"
    },
    {
     "data": {
      "application/vnd.jupyter.widget-view+json": {
       "model_id": "03b05ead231c40adbab6bea16bc850df",
       "version_major": 2,
       "version_minor": 0
      },
      "text/plain": [
       "Contracting features:   0%|          | 0/1 [00:00<?, ?it/s]"
      ]
     },
     "metadata": {},
     "output_type": "display_data"
    },
    {
     "data": {
      "application/vnd.jupyter.widget-view+json": {
       "model_id": "01391c72ee9a44e6972426015faf6a63",
       "version_major": 2,
       "version_minor": 0
      },
      "text/plain": [
       "Iterating neighbor types:   0%|          | 0/1 [00:00<?, ?it/s]"
      ]
     },
     "metadata": {},
     "output_type": "display_data"
    },
    {
     "data": {
      "application/vnd.jupyter.widget-view+json": {
       "model_id": "ddf9efc3b2c4495b9542090701258fe4",
       "version_major": 2,
       "version_minor": 0
      },
      "text/plain": [
       "Finding matching block samples:   0%|          | 0/5 [00:00<?, ?it/s]"
      ]
     },
     "metadata": {},
     "output_type": "display_data"
    },
    {
     "data": {
      "application/vnd.jupyter.widget-view+json": {
       "model_id": "fe6482b70e7f49b9b6b0c6812d0d74f6",
       "version_major": 2,
       "version_minor": 0
      },
      "text/plain": [
       "Contracting features:   0%|          | 0/1 [00:00<?, ?it/s]"
      ]
     },
     "metadata": {},
     "output_type": "display_data"
    }
   ],
   "source": [
    "calculator = EllipsoidalDensityProjection(**ANISOAP_HYPERS)\n",
    "rep_raw = calculator.transform([ells], show_progress=True)"
   ]
  },
  {
   "cell_type": "code",
   "execution_count": 7,
   "id": "b1095fb0-be20-4acf-aa19-5d31f323893b",
   "metadata": {},
   "outputs": [
    {
     "data": {
      "text/plain": [
       "TensorMap with 10 blocks\n",
       "keys: types_center  angular_channel\n",
       "           0               0\n",
       "           0               1\n",
       "                  ...\n",
       "           0               8\n",
       "           0               9"
      ]
     },
     "execution_count": 7,
     "metadata": {},
     "output_type": "execute_result"
    }
   ],
   "source": [
    "rep_raw"
   ]
  },
  {
   "cell_type": "code",
   "execution_count": null,
   "id": "9ffa2d8e-f321-4ace-9ac9-9983374896fc",
   "metadata": {},
   "outputs": [],
   "source": []
  }
 ],
 "metadata": {
  "kernelspec": {
   "display_name": "Python 3 (ipykernel)",
   "language": "python",
   "name": "python3"
  },
  "language_info": {
   "codemirror_mode": {
    "name": "ipython",
    "version": 3
   },
   "file_extension": ".py",
   "mimetype": "text/x-python",
   "name": "python",
   "nbconvert_exporter": "python",
   "pygments_lexer": "ipython3",
   "version": "3.11.10"
  }
 },
 "nbformat": 4,
 "nbformat_minor": 5
}
